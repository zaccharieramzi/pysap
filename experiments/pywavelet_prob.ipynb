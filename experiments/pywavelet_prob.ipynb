{
 "cells": [
  {
   "cell_type": "markdown",
   "metadata": {},
   "source": [
    "For the computation of our gradient we need to have the adjoint of the inverse wavelet transform. Usually the adjoint of the inverse wavelet transform is the wavelet transform itself. That is, we have:\n",
    "$$\n",
    "\\psi^* = \\psi^{-1}\n",
    "$$\n",
    "\n",
    "The definition of the adjoint $T^*$ of an operator $T$ defined from $E \\rightarrow F$ is:\n",
    "$$\n",
    "<T(x); y>_F = <x; T^*(y)>_E \\text{, } \\forall x,y \\in (E, F)\n",
    "$$\n",
    "\n",
    "We show here that this property is not verified with the implementations of the wavelet transform and the inverse wavelet transform in `pywavelet`, with the padding mode `\"symmetric\"`. We also show that the inverse wavelet transform is not the inverse of the wavelet transform if we consider all $R^p$ where $p$ is the number of wavelet coefficients.\n",
    "\n",
    "However, with the padding mode `\"periodization\"`, the inverse wavelet transform is indeed the inverse (and therefore the adjoint) of the wavelet transform. (Even weirder, for zero-padding -padding mode `\"zero\"`-, the adjoint property is verified but not the inverse property).\n",
    "\n",
    "The reason this was not spotted earlier is because we always assert the inverse in one direction not the other (therefore thinking that if the inverse property is verified, it must be the adjoint)."
   ]
  },
  {
   "cell_type": "code",
   "execution_count": 1,
   "metadata": {},
   "outputs": [],
   "source": [
    "import numpy as np\n",
    "import pywt"
   ]
  },
  {
   "cell_type": "markdown",
   "metadata": {},
   "source": [
    "Define the wavelet transform and inverse transform"
   ]
  },
  {
   "cell_type": "code",
   "execution_count": 2,
   "metadata": {},
   "outputs": [],
   "source": [
    "wavelet_type = \"db4\"\n",
    "level = 4\n",
    "mode = \"zero\"\n",
    "\n",
    "coeffs_tpl = pywt.wavedecn(data=np.zeros((512, 512)), wavelet=wavelet_type, mode=mode, level=level)\n",
    "coeffs_1d, coeff_slices, coeff_shapes = pywt.ravel_coeffs(coeffs_tpl)\n",
    "coeffs_tpl_rec = pywt.unravel_coeffs(coeffs_1d, coeff_slices, coeff_shapes)\n",
    "_ = pywt.waverecn(coeffs_tpl_rec, wavelet=wavelet_type, mode=mode)\n",
    "\n",
    "def py_W(im):\n",
    "    alpha = pywt.wavedecn(data=im, wavelet=wavelet_type, mode=mode, level=level)\n",
    "    alpha, _, _ = pywt.ravel_coeffs(alpha)\n",
    "    return alpha\n",
    "    \n",
    "def py_Ws(alpha):\n",
    "    coeffs = pywt.unravel_coeffs(alpha, coeff_slices, coeff_shapes)\n",
    "    im = pywt.waverecn(coeffs, wavelet=wavelet_type, mode=mode)\n",
    "    return im"
   ]
  },
  {
   "cell_type": "code",
   "execution_count": 3,
   "metadata": {},
   "outputs": [
    {
     "name": "stdout",
     "output_type": "stream",
     "text": [
      "Wavelet is redundant and therefore not orthogonal\n"
     ]
    }
   ],
   "source": [
    "if coeffs_1d.shape[0] > 512 * 512:\n",
    "    print(\"Wavelet is redundant and therefore not orthogonal\")\n",
    "else:\n",
    "    print(\"Wavelet is orthogonal\")"
   ]
  },
  {
   "cell_type": "markdown",
   "metadata": {},
   "source": [
    "Test the adjoint and inverse properties (here in complex). Run this several times to have different random images and coefficients."
   ]
  },
  {
   "cell_type": "code",
   "execution_count": 4,
   "metadata": {},
   "outputs": [
    {
     "name": "stdout",
     "output_type": "stream",
     "text": [
      "Adjoint:\n",
      "True\n",
      "\n",
      " Inverse from image to image:\n",
      "True\n",
      "\n",
      " Inverse from coefficients to coefficients:\n",
      "False\n"
     ]
    }
   ],
   "source": [
    "x_example = np.random.rand(*coeffs_1d.shape) + 1j * np.random.rand(*coeffs_1d.shape)\n",
    "y_example = np.random.rand(512, 512)\n",
    "print(\"Adjoint:\")\n",
    "x_Tadj_y = np.dot(x_example, np.conjugate(py_W(y_example)))\n",
    "T_x_y = np.dot(py_Ws(x_example).flatten(), np.conjugate(y_example.flatten()))\n",
    "print(np.allclose(x_Tadj_y, T_x_y))\n",
    "print(\"\\n Inverse from image to image:\")\n",
    "print(np.allclose(py_Ws(py_W(y_example)), y_example))\n",
    "print(\"\\n Inverse from coefficients to coefficients:\")\n",
    "print(np.allclose(py_W(py_Ws(x_example)), x_example))"
   ]
  },
  {
   "cell_type": "code",
   "execution_count": null,
   "metadata": {},
   "outputs": [],
   "source": []
  }
 ],
 "metadata": {
  "kernelspec": {
   "display_name": "Python 3",
   "language": "python",
   "name": "python3"
  },
  "language_info": {
   "codemirror_mode": {
    "name": "ipython",
    "version": 3
   },
   "file_extension": ".py",
   "mimetype": "text/x-python",
   "name": "python",
   "nbconvert_exporter": "python",
   "pygments_lexer": "ipython3",
   "version": "3.5.2"
  }
 },
 "nbformat": 4,
 "nbformat_minor": 2
}
